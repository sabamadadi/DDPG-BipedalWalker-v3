{
 "cells": [
  {
   "cell_type": "code",
   "execution_count": 23,
   "metadata": {
    "execution": {
     "iopub.execute_input": "2024-06-10T12:54:26.205155Z",
     "iopub.status.busy": "2024-06-10T12:54:26.204460Z",
     "iopub.status.idle": "2024-06-10T12:54:38.467516Z",
     "shell.execute_reply": "2024-06-10T12:54:38.466144Z",
     "shell.execute_reply.started": "2024-06-10T12:54:26.205115Z"
    },
    "trusted": true
   },
   "outputs": [
    {
     "name": "stdout",
     "output_type": "stream",
     "text": [
      "Requirement already satisfied: swig in /opt/conda/lib/python3.10/site-packages (4.2.1)\n",
      "Note: you may need to restart the kernel to use updated packages.\n"
     ]
    }
   ],
   "source": [
    "pip install swig"
   ]
  },
  {
   "cell_type": "code",
   "execution_count": 24,
   "metadata": {
    "execution": {
     "iopub.execute_input": "2024-06-10T12:54:38.470174Z",
     "iopub.status.busy": "2024-06-10T12:54:38.469835Z",
     "iopub.status.idle": "2024-06-10T12:54:50.679517Z",
     "shell.execute_reply": "2024-06-10T12:54:50.678352Z",
     "shell.execute_reply.started": "2024-06-10T12:54:38.470143Z"
    },
    "trusted": true
   },
   "outputs": [
    {
     "name": "stdout",
     "output_type": "stream",
     "text": [
      "Requirement already satisfied: gym[box2d] in /opt/conda/lib/python3.10/site-packages (0.26.2)\n",
      "Requirement already satisfied: numpy>=1.18.0 in /opt/conda/lib/python3.10/site-packages (from gym[box2d]) (1.26.4)\n",
      "Requirement already satisfied: cloudpickle>=1.2.0 in /opt/conda/lib/python3.10/site-packages (from gym[box2d]) (2.2.1)\n",
      "Requirement already satisfied: gym-notices>=0.0.4 in /opt/conda/lib/python3.10/site-packages (from gym[box2d]) (0.0.8)\n",
      "Requirement already satisfied: box2d-py==2.3.5 in /opt/conda/lib/python3.10/site-packages (from gym[box2d]) (2.3.5)\n",
      "Requirement already satisfied: pygame==2.1.0 in /opt/conda/lib/python3.10/site-packages (from gym[box2d]) (2.1.0)\n",
      "Requirement already satisfied: swig==4.* in /opt/conda/lib/python3.10/site-packages (from gym[box2d]) (4.2.1)\n",
      "Note: you may need to restart the kernel to use updated packages.\n"
     ]
    }
   ],
   "source": [
    "pip install gym[box2d]"
   ]
  },
  {
   "cell_type": "code",
   "execution_count": 25,
   "metadata": {
    "execution": {
     "iopub.execute_input": "2024-06-10T12:54:50.681361Z",
     "iopub.status.busy": "2024-06-10T12:54:50.681036Z",
     "iopub.status.idle": "2024-06-10T12:54:50.688363Z",
     "shell.execute_reply": "2024-06-10T12:54:50.687459Z",
     "shell.execute_reply.started": "2024-06-10T12:54:50.681331Z"
    },
    "trusted": true
   },
   "outputs": [],
   "source": [
    "import torch\n",
    "import torch.nn as nn\n",
    "import torch.optim as optim\n",
    "import numpy as np\n",
    "from collections import deque\n",
    "import random\n",
    "import gym\n",
    "from IPython import display\n",
    "import numpy as np\n",
    "import torch\n",
    "import torch.nn as nn\n",
    "import torch.nn.functional as F\n",
    "import gym\n",
    "import torch\n",
    "import numpy as np\n",
    "import matplotlib.pyplot as plt\n",
    "import pickle\n",
    "from collections import deque\n"
   ]
  },
  {
   "cell_type": "code",
   "execution_count": 26,
   "metadata": {
    "execution": {
     "iopub.execute_input": "2024-06-10T12:54:50.691740Z",
     "iopub.status.busy": "2024-06-10T12:54:50.691356Z",
     "iopub.status.idle": "2024-06-10T12:54:50.706229Z",
     "shell.execute_reply": "2024-06-10T12:54:50.705360Z",
     "shell.execute_reply.started": "2024-06-10T12:54:50.691705Z"
    },
    "trusted": true
   },
   "outputs": [],
   "source": [
    "\n",
    "\n",
    "class Actor(nn.Module):\n",
    "\n",
    "    def __init__(self, state_size, action_size, seed, fc_units=600, fc1_units=300):\n",
    "        super(Actor, self).__init__()\n",
    "        self.seed = torch.manual_seed(seed)\n",
    "        self.fc1 = nn.Linear(state_size, fc_units)\n",
    "        self.fc2 = nn.Linear(fc_units, fc1_units)\n",
    "        self.fc3 = nn.Linear(fc1_units, action_size)\n",
    "\n",
    "        self.bn1 = nn.BatchNorm1d(fc_units)\n",
    "        self.bn2 = nn.BatchNorm1d(fc1_units)\n",
    "        self.reset_parameters()\n",
    "\n",
    "    def reset_parameters(self):\n",
    "        self.fc2.weight.data.uniform_(-1.5e-3, 1.5e-3)\n",
    "        self.fc3.weight.data.uniform_(-3e-3, 3e-3)\n",
    "\n",
    "    def forward(self, state):\n",
    "        x = F.relu((self.bn1(self.fc1(state))))\n",
    "        x = F.relu((self.bn2(self.fc2(x))))\n",
    "        return F.torch.tanh(self.fc3(x))\n",
    "\n",
    "\n",
    "class Critic(nn.Module):\n",
    "\n",
    "    def __init__(self, state_size, action_size, seed, fcs1_units=600, fcs2_units=300, fca1_units=300):\n",
    "        super(Critic, self).__init__()\n",
    "        self.seed = torch.manual_seed(seed)\n",
    "        self.fcs1 = nn.Linear(state_size, fcs1_units)\n",
    "        self.fcs2 = nn.Linear(fcs1_units, fcs2_units)\n",
    "        self.fca1 = nn.Linear(action_size, fca1_units)\n",
    "        self.fc1 = nn.Linear(fcs2_units, 1)\n",
    "        self.bn1 = nn.BatchNorm1d(fcs1_units)\n",
    "        self.reset_parameters()\n",
    "\n",
    "    def reset_parameters(self):\n",
    "        self.fcs2.weight.data.uniform_(-1.5e-3, 1.5e-3)\n",
    "        self.fc1.weight.data.uniform_(-3e-3, 3e-3)\n",
    "\n",
    "    def forward(self, state, action):\n",
    "\n",
    "\n",
    "        xs = F.relu((self.bn1(self.fcs1(state))))\n",
    "        xs = self.fcs2(xs)\n",
    "        xa = self.fca1(action)\n",
    "        x = F.relu(torch.add(xs, xa))\n",
    "        return self.fc1(x)"
   ]
  },
  {
   "cell_type": "code",
   "execution_count": 27,
   "metadata": {
    "execution": {
     "iopub.execute_input": "2024-06-10T12:54:50.708046Z",
     "iopub.status.busy": "2024-06-10T12:54:50.707741Z",
     "iopub.status.idle": "2024-06-10T12:54:50.737718Z",
     "shell.execute_reply": "2024-06-10T12:54:50.736838Z",
     "shell.execute_reply.started": "2024-06-10T12:54:50.708023Z"
    },
    "trusted": true
   },
   "outputs": [],
   "source": [
    "import numpy as np\n",
    "import copy\n",
    "import random\n",
    "from collections import namedtuple, deque\n",
    "\n",
    "\n",
    "import torch\n",
    "import torch.nn.functional as F\n",
    "import torch.optim as optim\n",
    "\n",
    "BUFFER_SIZE = 1000000\n",
    "BATCH_SIZE = 100\n",
    "GAMMA = 0.99\n",
    "TAU = 0.001\n",
    "LR_ACTOR = 0.0001\n",
    "LR_CRITIC = 0.001\n",
    "WEIGHT_DECAY = 0.001\n",
    "\n",
    "device = torch.device(\"cuda:0\" if torch.cuda.is_available() else \"cpu\")\n",
    "\n",
    "\n",
    "class Agent():\n",
    "\n",
    "    def __init__(self, state_size, action_size, random_seed):\n",
    "\n",
    "        self.state_size = state_size\n",
    "        self.action_size = action_size\n",
    "        self.seed = random.seed(random_seed)\n",
    "\n",
    "\n",
    "        self.actor_local = Actor(state_size, action_size, random_seed).to(device)\n",
    "        self.actor_target = Actor(state_size, action_size, random_seed).to(device)\n",
    "        self.actor_optimizer = optim.Adam(self.actor_local.parameters(), lr=LR_ACTOR)\n",
    "\n",
    "        self.critic_local = Critic(state_size, action_size, random_seed).to(device)\n",
    "        self.critic_target = Critic(state_size, action_size, random_seed).to(device)\n",
    "        self.critic_optimizer = optim.Adam(self.critic_local.parameters(), lr=LR_CRITIC, weight_decay=WEIGHT_DECAY)\n",
    "\n",
    "        self.noise = OUNoise(action_size, random_seed)\n",
    "\n",
    "        self.memory = ReplayBuffer(action_size, BUFFER_SIZE, BATCH_SIZE, random_seed)\n",
    "\n",
    "    def step(self, state, action, reward, next_state, done):\n",
    "        self.memory.add(state, action, reward, next_state, done)\n",
    "\n",
    "        if len(self.memory) > BATCH_SIZE:\n",
    "            experiences = self.memory.sample()\n",
    "            return self.learn(experiences, GAMMA)\n",
    "        return None, None\n",
    "\n",
    "    def act(self, state, add_noise=True):\n",
    "        state = torch.from_numpy(state).float().unsqueeze(0).to(device)\n",
    "        self.actor_local.eval()\n",
    "        with torch.no_grad():\n",
    "            action = self.actor_local(state).cpu().data.numpy()\n",
    "        self.actor_local.train()\n",
    "        if add_noise:\n",
    "            action += self.noise.sample()\n",
    "        return action\n",
    "\n",
    "    def reset(self):\n",
    "        self.noise.reset()\n",
    "\n",
    "    def learn(self, experiences, gamma):\n",
    "\n",
    "        states, actions, rewards, next_states, dones = experiences\n",
    "\n",
    "        actions_next = self.actor_target(next_states)\n",
    "        Q_targets_next = self.critic_target(next_states, actions_next)\n",
    "        Q_targets = rewards + (gamma * Q_targets_next * (1 - dones))\n",
    "        Q_expected = self.critic_local(states, actions)\n",
    "        critic_loss = F.mse_loss(Q_expected, Q_targets)\n",
    "        self.critic_optimizer.zero_grad()\n",
    "        critic_loss.backward()\n",
    "        self.critic_optimizer.step()\n",
    "\n",
    "        actions_pred = self.actor_local(states)\n",
    "        actor_loss = -self.critic_local(states, actions_pred).mean()\n",
    "        self.actor_optimizer.zero_grad()\n",
    "        actor_loss.backward()\n",
    "        self.actor_optimizer.step()\n",
    "\n",
    "        self.soft_update(self.critic_local, self.critic_target, TAU)\n",
    "        self.soft_update(self.actor_local, self.actor_target, TAU)\n",
    "        return actor_loss.cpu().data.numpy(), critic_loss.cpu().data.numpy()\n",
    "\n",
    "    def soft_update(self, local_model, target_model, tau):\n",
    "\n",
    "        for target_param, local_param in zip(target_model.parameters(), local_model.parameters()):\n",
    "            target_param.data.copy_(tau * local_param.data + (1.0 - tau) * target_param.data)\n",
    "\n",
    "\n",
    "class OUNoise:\n",
    "\n",
    "    def __init__(self, size, seed, mu=0., theta=0.4, sigma=0.2):\n",
    "        self.mu = mu * np.ones(size)\n",
    "        self.theta = theta\n",
    "        self.sigma = sigma\n",
    "        self.seed = random.seed(seed)\n",
    "        self.reset()\n",
    "\n",
    "    def reset(self):\n",
    "        self.state = copy.copy(self.mu)\n",
    "\n",
    "    def sample(self):\n",
    "        x = self.state\n",
    "        dx = self.theta * (self.mu - x) + self.sigma * np.array([random.random() for i in range(len(x))])\n",
    "        self.state = x + dx\n",
    "        return self.state\n",
    "\n",
    "\n",
    "class ReplayBuffer:\n",
    "\n",
    "    def __init__(self, action_size, buffer_size, batch_size, seed):\n",
    "\n",
    "        self.action_size = action_size\n",
    "        self.memory = deque(maxlen=buffer_size)\n",
    "        self.batch_size = batch_size\n",
    "        self.experience = namedtuple(\"Experience\", field_names=[\"state\", \"action\", \"reward\", \"next_state\", \"done\"])\n",
    "        self.seed = random.seed(seed)\n",
    "\n",
    "    def add(self, state, action, reward, next_state, done):\n",
    "        e = self.experience(state, action, reward, next_state, done)\n",
    "        self.memory.append(e)\n",
    "\n",
    "    def sample(self):\n",
    "        experiences = random.sample(self.memory, k=self.batch_size)\n",
    "\n",
    "        states = torch.from_numpy(np.vstack([e.state for e in experiences if e is not None])).float().to(device)\n",
    "        actions = torch.from_numpy(np.vstack([e.action for e in experiences if e is not None])).float().to(device)\n",
    "        rewards = torch.from_numpy(np.vstack([e.reward for e in experiences if e is not None])).float().to(device)\n",
    "        next_states = torch.from_numpy(np.vstack([e.next_state for e in experiences if e is not None])).float().to(\n",
    "            device)\n",
    "        dones = torch.from_numpy(np.vstack([e.done for e in experiences if e is not None]).astype(np.uint8)).float().to(\n",
    "            device)\n",
    "\n",
    "        return states, actions, rewards, next_states, dones\n",
    "\n",
    "    def __len__(self):\n",
    "        return len(self.memory)"
   ]
  },
  {
   "cell_type": "code",
   "execution_count": 28,
   "metadata": {
    "execution": {
     "iopub.execute_input": "2024-06-10T12:54:50.739267Z",
     "iopub.status.busy": "2024-06-10T12:54:50.738927Z",
     "iopub.status.idle": "2024-06-10T12:54:50.750691Z",
     "shell.execute_reply": "2024-06-10T12:54:50.749946Z",
     "shell.execute_reply.started": "2024-06-10T12:54:50.739233Z"
    },
    "trusted": true
   },
   "outputs": [],
   "source": [
    "def show_state(env, step=0, info=\"\"):\n",
    "    plt.figure(3)\n",
    "    plt.clf()\n",
    "    plt.imshow(env.render())\n",
    "    plt.axis('off')\n",
    "\n",
    "    display.clear_output(wait=True)\n",
    "    display.display(plt.gcf())"
   ]
  },
  {
   "cell_type": "code",
   "execution_count": 29,
   "metadata": {
    "execution": {
     "iopub.execute_input": "2024-06-10T12:54:50.752656Z",
     "iopub.status.busy": "2024-06-10T12:54:50.752380Z",
     "iopub.status.idle": "2024-06-10T15:23:14.453989Z",
     "shell.execute_reply": "2024-06-10T15:23:14.452953Z",
     "shell.execute_reply.started": "2024-06-10T12:54:50.752597Z"
    },
    "trusted": true
   },
   "outputs": [
    {
     "data": {
      "image/png": "[encoded data removed]",
      "text/plain": [
       "<Figure size 640x480 with 1 Axes>"
      ]
     },
     "metadata": {},
     "output_type": "display_data"
    },
    {
     "name": "stdout",
     "output_type": "stream",
     "text": [
      "Episode: 1000/1000,\tMean Score: -47.17,\tMean Distance: 39.83,\tactor_loss: -4.0777363777160645,\tcritic_loss:1.7629084587097168\n"
     ]
    },
    {
     "data": {
      "image/png": "[encoded data removed]",
      "text/plain": [
       "<Figure size 640x480 with 1 Axes>"
      ]
     },
     "metadata": {},
     "output_type": "display_data"
    }
   ],
   "source": [
    "\n",
    "gym.logger.set_level(40)\n",
    "env = gym.make('BipedalWalker-v3', render_mode=\"rgb_array\")\n",
    "\n",
    "state_dim = env.observation_space.shape[0]\n",
    "action_dim = env.action_space.shape[0]\n",
    "\n",
    "MAX_EPISODES = 1000\n",
    "MAX_REWARD = 300\n",
    "MAX_STEPS = 2000\n",
    "MEAN_EVERY = 100\n",
    "\n",
    "start_episode = 0\n",
    "\n",
    "agent = Agent(state_size=state_dim, action_size=action_dim, random_seed=0)\n",
    "\n",
    "\n",
    "scores = []\n",
    "mean_scores = []\n",
    "last_scores = deque(maxlen=MEAN_EVERY)\n",
    "distances = []\n",
    "mean_distances = []\n",
    "last_distance = deque(maxlen=MEAN_EVERY)\n",
    "losses_mean_episode = []\n",
    "\n",
    "for ep in range(start_episode + 1, MAX_EPISODES + 1):\n",
    "    state = env.reset()[0]\n",
    "\n",
    "    total_reward = 0\n",
    "    total_distance = 0\n",
    "    actor_losses = []\n",
    "    critic_losses = []\n",
    "    for t in range(MAX_STEPS):\n",
    "        if ep % 100 == 0:\n",
    "            show_state(env)\n",
    "\n",
    "        action = agent.act(state, noise)\n",
    "        next_state, reward, done, _, info = env.step(action[0])\n",
    "        actor_loss, critic_loss = agent.step(state, action, reward, next_state, done)\n",
    "        if actor_loss is not None:\n",
    "            actor_losses.append(actor_loss)\n",
    "        if critic_loss is not None:\n",
    "            critic_losses.append(critic_loss)\n",
    "        state = next_state.squeeze()\n",
    "        state = next_state\n",
    "        total_reward += reward\n",
    "        if reward != -100:\n",
    "            total_distance += reward\n",
    "        if done:\n",
    "            break\n",
    "\n",
    "    if len(actor_losses) >= 1 and len(critic_losses) >= 1:\n",
    "        mean_loss_actor = np.mean(actor_losses)\n",
    "        mean_loss_critic = np.mean(critic_losses)\n",
    "        losses_mean_episode.append((ep, mean_loss_actor, mean_loss_critic))\n",
    "    else:\n",
    "        mean_loss_actor = None\n",
    "        mean_loss_critic = None\n",
    "\n",
    "    print(\n",
    "        '\\rEpisode: {}/{},\\tScore: {:.2f},\\tDistance: {:.2f},\\tactor_loss: {},\\tcritic_loss:{}'.format(ep, MAX_EPISODES,\n",
    "                                                                                                       total_reward,\n",
    "                                                                                                       total_distance,\n",
    "                                                                                                       mean_loss_actor,\n",
    "                                                                                                       mean_loss_critic),\n",
    "        end=\"\")\n",
    "\n",
    "    scores.append(total_reward)\n",
    "    distances.append(total_distance)\n",
    "    last_scores.append(total_reward)\n",
    "    last_distance.append(total_distance)\n",
    "    mean_score = np.mean(last_scores)\n",
    "    mean_distance = np.mean(last_distance)\n",
    "    data = [ep, total_reward, total_distance, mean_loss_actor, mean_loss_critic]\n",
    "\n",
    "\n",
    "        mean_scores.append(mean_score)\n",
    "        mean_distances.append(mean_distance)\n",
    "        print('\\rEpisode: {}/{},\\tMean Score: {:.2f},\\tMean Distance: {:.2f},\\tactor_loss: {},\\tcritic_loss:{}'.format(\n",
    "            ep, MAX_EPISODES,\n",
    "            mean_score,\n",
    "            mean_distance, mean_loss_actor,\n",
    "            mean_loss_critic))\n",
    "        data = [ep, mean_score, mean_distance, mean_loss_actor, mean_loss_critic]\n",
    "\n",
    "env.close()\n"
   ]
  }
 ],
 "metadata": {
  "kaggle": {
   "accelerator": "gpu",
   "dataSources": [],
   "dockerImageVersionId": 30732,
   "isGpuEnabled": true,
   "isInternetEnabled": true,
   "language": "python",
   "sourceType": "notebook"
  },
  "kernelspec": {
   "display_name": "Python 3",
   "language": "python",
   "name": "python3"
  },
  "language_info": {
   "codemirror_mode": {
    "name": "ipython",
    "version": 3
   },
   "file_extension": ".py",
   "mimetype": "text/x-python",
   "name": "python",
   "nbconvert_exporter": "python",
   "pygments_lexer": "ipython3",
   "version": "3.10.13"
  }
 },
 "nbformat": 4,
 "nbformat_minor": 4
}
